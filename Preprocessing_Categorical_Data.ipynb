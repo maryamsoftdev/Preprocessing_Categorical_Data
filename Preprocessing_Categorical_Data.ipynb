{
  "nbformat": 4,
  "nbformat_minor": 0,
  "metadata": {
    "colab": {
      "provenance": []
    },
    "kernelspec": {
      "name": "python3",
      "display_name": "Python 3"
    },
    "language_info": {
      "name": "python"
    }
  },
  "cells": [
    {
      "cell_type": "code",
      "execution_count": 2,
      "metadata": {
        "colab": {
          "base_uri": "https://localhost:8080/"
        },
        "id": "cXW2yA10sMuD",
        "outputId": "c0068774-4851-45f5-e836-b4f854752e25"
      },
      "outputs": [
        {
          "output_type": "stream",
          "name": "stdout",
          "text": [
            "    Car_Audi  Car_BMW  Car_Fiat  Car_Ford  Car_Honda  Car_Hundai  Car_Hyundai  Car_Mazda  Car_Mercedes  Car_Mini  Car_Mitsubishi  Car_Opel  Car_Skoda  Car_Suzuki  Car_Toyoty  Car_VW  Car_Volvo\n",
            "0          0        0         0         0          0           0            0          0             0         0               0         0          0           0           1       0          0\n",
            "1          0        0         0         0          0           0            0          0             0         0               1         0          0           0           0       0          0\n",
            "2          0        0         0         0          0           0            0          0             0         0               0         0          1           0           0       0          0\n",
            "3          0        0         1         0          0           0            0          0             0         0               0         0          0           0           0       0          0\n",
            "4          0        0         0         0          0           0            0          0             0         1               0         0          0           0           0       0          0\n",
            "5          0        0         0         0          0           0            0          0             0         0               0         0          0           0           0       1          0\n",
            "6          0        0         0         0          0           0            0          0             0         0               0         0          1           0           0       0          0\n",
            "7          0        0         0         0          0           0            0          0             1         0               0         0          0           0           0       0          0\n",
            "8          0        0         0         1          0           0            0          0             0         0               0         0          0           0           0       0          0\n",
            "9          1        0         0         0          0           0            0          0             0         0               0         0          0           0           0       0          0\n",
            "10         0        0         0         0          0           0            1          0             0         0               0         0          0           0           0       0          0\n",
            "11         0        0         0         0          0           0            0          0             0         0               0         0          0           1           0       0          0\n",
            "12         0        0         0         1          0           0            0          0             0         0               0         0          0           0           0       0          0\n",
            "13         0        0         0         0          1           0            0          0             0         0               0         0          0           0           0       0          0\n",
            "14         0        0         0         0          0           1            0          0             0         0               0         0          0           0           0       0          0\n",
            "15         0        0         0         0          0           0            0          0             0         0               0         1          0           0           0       0          0\n",
            "16         0        1         0         0          0           0            0          0             0         0               0         0          0           0           0       0          0\n",
            "17         0        0         0         0          0           0            0          1             0         0               0         0          0           0           0       0          0\n",
            "18         0        0         0         0          0           0            0          0             0         0               0         0          1           0           0       0          0\n",
            "19         0        0         0         1          0           0            0          0             0         0               0         0          0           0           0       0          0\n",
            "20         0        0         0         1          0           0            0          0             0         0               0         0          0           0           0       0          0\n",
            "21         0        0         0         0          0           0            0          0             0         0               0         1          0           0           0       0          0\n",
            "22         0        0         0         0          0           0            0          0             1         0               0         0          0           0           0       0          0\n",
            "23         0        0         0         0          0           0            0          0             0         0               0         0          1           0           0       0          0\n",
            "24         0        0         0         0          0           0            0          0             0         0               0         0          0           0           0       0          1\n",
            "25         0        0         0         0          0           0            0          0             1         0               0         0          0           0           0       0          0\n",
            "26         1        0         0         0          0           0            0          0             0         0               0         0          0           0           0       0          0\n",
            "27         1        0         0         0          0           0            0          0             0         0               0         0          0           0           0       0          0\n",
            "28         0        0         0         0          0           0            0          0             0         0               0         0          0           0           0       0          1\n",
            "29         0        1         0         0          0           0            0          0             0         0               0         0          0           0           0       0          0\n",
            "30         0        0         0         0          0           0            0          0             1         0               0         0          0           0           0       0          0\n",
            "31         0        0         0         0          0           0            0          0             0         0               0         0          0           0           0       0          1\n",
            "32         0        0         0         1          0           0            0          0             0         0               0         0          0           0           0       0          0\n",
            "33         0        1         0         0          0           0            0          0             0         0               0         0          0           0           0       0          0\n",
            "34         0        0         0         0          0           0            0          0             0         0               0         1          0           0           0       0          0\n",
            "35         0        0         0         0          0           0            0          0             1         0               0         0          0           0           0       0          0\n"
          ]
        }
      ],
      "source": [
        "import pandas as pd\n",
        "\n",
        "cars = pd.read_csv('data.csv')\n",
        "ohe_cars = pd.get_dummies(cars[['Car']])\n",
        "\n",
        "print(ohe_cars.to_string())"
      ]
    },
    {
      "cell_type": "code",
      "source": [
        "import pandas\n",
        "from sklearn import linear_model\n",
        "\n",
        "cars = pandas.read_csv(\"data.csv\")\n",
        "ohe_cars = pandas.get_dummies(cars[['Car']])\n",
        "\n",
        "X = pandas.concat([cars[['Volume', 'Weight']], ohe_cars], axis=1)\n",
        "y = cars['CO2']\n",
        "\n",
        "regr = linear_model.LinearRegression()\n",
        "regr.fit(X,y)\n",
        "\n",
        "##predict the CO2 emission of a Volvo where the weight is 2300kg, and the volume is 1300cm3:\n",
        "predictedCO2 = regr.predict([[2300, 1300,0,0,0,0,0,0,0,0,0,0,0,0,0,0,0,1,0]])\n",
        "\n",
        "print(predictedCO2)"
      ],
      "metadata": {
        "colab": {
          "base_uri": "https://localhost:8080/"
        },
        "id": "YMTzLolhtfrd",
        "outputId": "8d370a52-578b-40d7-ad0d-21ec4d3bcab7"
      },
      "execution_count": 3,
      "outputs": [
        {
          "output_type": "stream",
          "name": "stdout",
          "text": [
            "[122.45153299]\n"
          ]
        },
        {
          "output_type": "stream",
          "name": "stderr",
          "text": [
            "/usr/local/lib/python3.10/dist-packages/sklearn/base.py:439: UserWarning: X does not have valid feature names, but LinearRegression was fitted with feature names\n",
            "  warnings.warn(\n"
          ]
        }
      ]
    },
    {
      "cell_type": "markdown",
      "source": [
        "# Dummifying"
      ],
      "metadata": {
        "id": "4uAR4Wg2tmPw"
      }
    },
    {
      "cell_type": "code",
      "source": [
        "colors = pd.DataFrame({'color': ['blue', 'red']})\n",
        "\n",
        "print(colors)"
      ],
      "metadata": {
        "colab": {
          "base_uri": "https://localhost:8080/"
        },
        "id": "z40WLb3rtoiH",
        "outputId": "85d0ef0e-006c-4a64-95c3-434f45b12382"
      },
      "execution_count": 4,
      "outputs": [
        {
          "output_type": "stream",
          "name": "stdout",
          "text": [
            "  color\n",
            "0  blue\n",
            "1   red\n"
          ]
        }
      ]
    },
    {
      "cell_type": "markdown",
      "source": [
        "You can create 1 column called red where 1 represents red and 0 represents not red, which means it is blue."
      ],
      "metadata": {
        "id": "iLLulSWvtwTw"
      }
    },
    {
      "cell_type": "code",
      "source": [
        "\n",
        "colors = pd.DataFrame({'color': ['blue', 'red', 'green']})\n",
        "dummies = pd.get_dummies(colors, drop_first=True)\n",
        "dummies['color'] = colors['color']\n",
        "\n",
        "print(dummies)"
      ],
      "metadata": {
        "colab": {
          "base_uri": "https://localhost:8080/"
        },
        "id": "9TzMNz2Dt2yY",
        "outputId": "7c02d513-78f4-41a9-b7fb-b5ed42eded00"
      },
      "execution_count": 5,
      "outputs": [
        {
          "output_type": "stream",
          "name": "stdout",
          "text": [
            "   color_green  color_red  color\n",
            "0            0          0   blue\n",
            "1            0          1    red\n",
            "2            1          0  green\n"
          ]
        }
      ]
    }
  ]
}